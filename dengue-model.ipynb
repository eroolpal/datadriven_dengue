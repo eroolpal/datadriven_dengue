{
 "cells": [
  {
   "cell_type": "markdown",
   "metadata": {},
   "source": [
    "Dengue is a mosquito-borne disease that occurs in tropical and sub-tropical parts of the world. In mild cases, symptoms are similar to the flu: fever, rash and muscle and joint pain. But severe cases are dangerous, and dengue fever can cause severe bleeding, low blood pressure and even death.\n",
    "\n",
    "Because it is carried by mosquitoes, the transmission dynamics of dengue are related to climate variables such as temperature and precipitation. Although the relationship to climate is complex, a growing number of scientists argue that climate change is likely to produce distributional shifts that will have significant public health implications worldwide.\n",
    "\n",
    "This competition is on (https://www.drivendata.org/competitions/44/) to use open data to predict the occurrence of Dengue based on climatological data."
   ]
  },
  {
   "cell_type": "markdown",
   "metadata": {},
   "source": [
    "As always, we begin with the sacred `import`'s of data science:"
   ]
  },
  {
   "cell_type": "code",
   "execution_count": 5,
   "metadata": {},
   "outputs": [],
   "source": [
    "%matplotlib inline\n",
    "\n",
    "#from __future__ import print_function\n",
    "#from __future__ import division\n",
    "\n",
    "import pandas as pd\n",
    "import numpy as np\n",
    "\n",
    "from matplotlib import pyplot as plt\n",
    "import seaborn as sns\n",
    "\n",
    "from sklearn.model_selection import train_test_split\n",
    "import statsmodels.api as sm\n",
    "\n",
    "# just for the sake of this blog post!\n",
    "from warnings import filterwarnings\n",
    "filterwarnings('ignore')\n",
    "\n",
    "from sklearn.linear_model import LinearRegression\n",
    "from sklearn.linear_model import Lasso\n",
    "from sklearn.linear_model import ElasticNet\n",
    "from sklearn.tree import DecisionTreeRegressor\n",
    "from sklearn.neighbors import KNeighborsRegressor\n",
    "from sklearn.ensemble import GradientBoostingRegressor\n",
    "from sklearn.model_selection import KFold"
   ]
  },
  {
   "cell_type": "markdown",
   "metadata": {},
   "source": [
    "## A Tale of Two Cities\n",
    "\n",
    "![](https://community.drivendata.org/uploads/default/original/1X/4c3a8204d1715b5e2ee24da78abbad1515eccd5f.png)\n",
    "\n",
    "This dataset has two cities in it: San Juan, Puerto Rico (right) and Iquitos, Peru (left). Since we hypothesize that the spread of dengue may follow different patterns between the two, we will divide the dataset, train seperate models for each city, and then join our predictions before making our final submission."
   ]
  },
  {
   "cell_type": "code",
   "execution_count": 6,
   "metadata": {},
   "outputs": [
    {
     "data": {
      "text/html": [
       "<div>\n",
       "<style scoped>\n",
       "    .dataframe tbody tr th:only-of-type {\n",
       "        vertical-align: middle;\n",
       "    }\n",
       "\n",
       "    .dataframe tbody tr th {\n",
       "        vertical-align: top;\n",
       "    }\n",
       "\n",
       "    .dataframe thead th {\n",
       "        text-align: right;\n",
       "    }\n",
       "</style>\n",
       "<table border=\"1\" class=\"dataframe\">\n",
       "  <thead>\n",
       "    <tr style=\"text-align: right;\">\n",
       "      <th></th>\n",
       "      <th>city</th>\n",
       "      <th>year</th>\n",
       "      <th>weekofyear</th>\n",
       "      <th>total_cases</th>\n",
       "    </tr>\n",
       "  </thead>\n",
       "  <tbody>\n",
       "    <tr>\n",
       "      <th>0</th>\n",
       "      <td>sj</td>\n",
       "      <td>1990</td>\n",
       "      <td>18</td>\n",
       "      <td>4</td>\n",
       "    </tr>\n",
       "    <tr>\n",
       "      <th>1</th>\n",
       "      <td>sj</td>\n",
       "      <td>1990</td>\n",
       "      <td>19</td>\n",
       "      <td>5</td>\n",
       "    </tr>\n",
       "    <tr>\n",
       "      <th>2</th>\n",
       "      <td>sj</td>\n",
       "      <td>1990</td>\n",
       "      <td>20</td>\n",
       "      <td>4</td>\n",
       "    </tr>\n",
       "    <tr>\n",
       "      <th>3</th>\n",
       "      <td>sj</td>\n",
       "      <td>1990</td>\n",
       "      <td>21</td>\n",
       "      <td>3</td>\n",
       "    </tr>\n",
       "    <tr>\n",
       "      <th>4</th>\n",
       "      <td>sj</td>\n",
       "      <td>1990</td>\n",
       "      <td>22</td>\n",
       "      <td>6</td>\n",
       "    </tr>\n",
       "  </tbody>\n",
       "</table>\n",
       "</div>"
      ],
      "text/plain": [
       "  city  year  weekofyear  total_cases\n",
       "0   sj  1990          18            4\n",
       "1   sj  1990          19            5\n",
       "2   sj  1990          20            4\n",
       "3   sj  1990          21            3\n",
       "4   sj  1990          22            6"
      ]
     },
     "execution_count": 6,
     "metadata": {},
     "output_type": "execute_result"
    }
   ],
   "source": [
    "# load the provided data\n",
    "train_features = pd.read_csv('/Users/eroolpal/Downloads/dengue_features_train.csv')\n",
    "\n",
    "train_labels = pd.read_csv('/Users/eroolpal/Downloads/dengue_labels_train.csv')\n",
    "train_labels.head()"
   ]
  },
  {
   "cell_type": "code",
   "execution_count": 7,
   "metadata": {},
   "outputs": [
    {
     "name": "stdout",
     "output_type": "stream",
     "text": [
      "<class 'pandas.core.frame.DataFrame'>\n",
      "RangeIndex: 1456 entries, 0 to 1455\n",
      "Data columns (total 24 columns):\n",
      "city                                     1456 non-null object\n",
      "year                                     1456 non-null int64\n",
      "weekofyear                               1456 non-null int64\n",
      "week_start_date                          1456 non-null object\n",
      "ndvi_ne                                  1262 non-null float64\n",
      "ndvi_nw                                  1404 non-null float64\n",
      "ndvi_se                                  1434 non-null float64\n",
      "ndvi_sw                                  1434 non-null float64\n",
      "precipitation_amt_mm                     1443 non-null float64\n",
      "reanalysis_air_temp_k                    1446 non-null float64\n",
      "reanalysis_avg_temp_k                    1446 non-null float64\n",
      "reanalysis_dew_point_temp_k              1446 non-null float64\n",
      "reanalysis_max_air_temp_k                1446 non-null float64\n",
      "reanalysis_min_air_temp_k                1446 non-null float64\n",
      "reanalysis_precip_amt_kg_per_m2          1446 non-null float64\n",
      "reanalysis_relative_humidity_percent     1446 non-null float64\n",
      "reanalysis_sat_precip_amt_mm             1443 non-null float64\n",
      "reanalysis_specific_humidity_g_per_kg    1446 non-null float64\n",
      "reanalysis_tdtr_k                        1446 non-null float64\n",
      "station_avg_temp_c                       1413 non-null float64\n",
      "station_diur_temp_rng_c                  1413 non-null float64\n",
      "station_max_temp_c                       1436 non-null float64\n",
      "station_min_temp_c                       1442 non-null float64\n",
      "station_precip_mm                        1434 non-null float64\n",
      "dtypes: float64(20), int64(2), object(2)\n",
      "memory usage: 273.1+ KB\n"
     ]
    }
   ],
   "source": [
    "train_features.info()"
   ]
  },
  {
   "cell_type": "code",
   "execution_count": 8,
   "metadata": {},
   "outputs": [],
   "source": [
    "#print(train_features.weekofyear)"
   ]
  },
  {
   "cell_type": "markdown",
   "metadata": {},
   "source": [
    "The [problem description](https://www.drivendata.org/competitions/44/page/82/) gives a good overview of the available variables, but we'll look at the head of the data here as well:"
   ]
  },
  {
   "cell_type": "markdown",
   "metadata": {},
   "source": [
    "Next, let's check to see if we are missing any values in this dataset:"
   ]
  },
  {
   "cell_type": "code",
   "execution_count": 9,
   "metadata": {},
   "outputs": [
    {
     "data": {
      "text/plain": [
       "city                                     False\n",
       "year                                     False\n",
       "weekofyear                               False\n",
       "week_start_date                          False\n",
       "ndvi_ne                                   True\n",
       "ndvi_nw                                   True\n",
       "ndvi_se                                   True\n",
       "ndvi_sw                                   True\n",
       "precipitation_amt_mm                      True\n",
       "reanalysis_air_temp_k                     True\n",
       "reanalysis_avg_temp_k                     True\n",
       "reanalysis_dew_point_temp_k               True\n",
       "reanalysis_max_air_temp_k                 True\n",
       "reanalysis_min_air_temp_k                 True\n",
       "reanalysis_precip_amt_kg_per_m2           True\n",
       "reanalysis_relative_humidity_percent      True\n",
       "reanalysis_sat_precip_amt_mm              True\n",
       "reanalysis_specific_humidity_g_per_kg     True\n",
       "reanalysis_tdtr_k                         True\n",
       "station_avg_temp_c                        True\n",
       "station_diur_temp_rng_c                   True\n",
       "station_max_temp_c                        True\n",
       "station_min_temp_c                        True\n",
       "station_precip_mm                         True\n",
       "dtype: bool"
      ]
     },
     "execution_count": 9,
     "metadata": {},
     "output_type": "execute_result"
    }
   ],
   "source": [
    "# Null check\n",
    "pd.isnull(train_features).any()"
   ]
  },
  {
   "cell_type": "code",
   "execution_count": 10,
   "metadata": {},
   "outputs": [
    {
     "data": {
      "text/plain": [
       "Text(0.5, 0, 'Time')"
      ]
     },
     "execution_count": 10,
     "metadata": {},
     "output_type": "execute_result"
    },
    {
     "data": {
      "image/png": "[encoded data removed]",
      "text/plain": [
       "<Figure size 432x288 with 1 Axes>"
      ]
     },
     "metadata": {
      "needs_background": "light"
     },
     "output_type": "display_data"
    }
   ],
   "source": [
    "(train_features\n",
    "     .ndvi_ne\n",
    "     .plot\n",
    "     .line(lw=0.8))\n",
    "\n",
    "plt.title('Vegetation Index over Time')\n",
    "plt.xlabel('Time')"
   ]
  },
  {
   "cell_type": "markdown",
   "metadata": {},
   "source": [
    "Since these are time-series, we can see the gaps where there are `NaN`s by plotting the data. Since we can't build a model without those values, we'll take a simple approach and just fill those values with the most recent value that we saw up to that point. This is probably a good part of the problem to improve your score by getting smarter."
   ]
  },
  {
   "cell_type": "markdown",
   "metadata": {},
   "source": [
    " # separate the Categorical values and numerical values"
   ]
  },
  {
   "cell_type": "code",
   "execution_count": 11,
   "metadata": {},
   "outputs": [],
   "source": [
    "\n",
    "cat_val = train_features.select_dtypes(include=['object']).copy()\n",
    "cat_val.drop('week_start_date', axis=1, inplace=True)\n",
    "num_val = train_features.drop(cat_val,axis=1)\n",
    "num_val.fillna(method='ffill', inplace=True)\n",
    "#sj_train_features.fillna(sj_train_features.mean(), inplace=True)\n",
    "#iq_train_features.fillna(iq_train_features.mean(), inplace=True)"
   ]
  },
  {
   "cell_type": "markdown",
   "metadata": {},
   "source": [
    "## Distribution of labels\n",
    "\n",
    "Our target variable, `total_cases` is a non-negative integer, which means we're looking to make some **count predictions**. Standard regression techniques for this type of prediction include\n",
    "\n",
    "1. Poisson regression\n",
    "2. Negative binomial regression\n",
    "\n",
    "Initially the negative binomial regression was used, but here we use otheer machine learning techniques."
   ]
  },
  {
   "cell_type": "code",
   "execution_count": 12,
   "metadata": {},
   "outputs": [
    {
     "name": "stdout",
     "output_type": "stream",
     "text": [
      "total\n",
      "mean:  0.13127138796703314\n",
      "var : 0.019189678045667725\n"
     ]
    }
   ],
   "source": [
    "print('total')\n",
    "print('mean: ', num_val.mean()[2])\n",
    "print('var :', num_val.var()[2])\n",
    "\n"
   ]
  },
  {
   "cell_type": "code",
   "execution_count": 13,
   "metadata": {},
   "outputs": [
    {
     "data": {
      "text/plain": [
       "<matplotlib.axes._subplots.AxesSubplot at 0x1c234a7a90>"
      ]
     },
     "execution_count": 13,
     "metadata": {},
     "output_type": "execute_result"
    },
    {
     "data": {
      "image/png": "[encoded data removed]",
      "text/plain": [
       "<Figure size 432x288 with 1 Axes>"
      ]
     },
     "metadata": {
      "needs_background": "light"
     },
     "output_type": "display_data"
    }
   ],
   "source": [
    "train_labels.total_cases.hist()"
   ]
  },
  {
   "cell_type": "markdown",
   "metadata": {},
   "source": [
    "### `variance  >>  mean` suggests `total_cases` can be described by a negative binomial distribution, so we'll use a negative binomial regression below."
   ]
  },
  {
   "cell_type": "markdown",
   "metadata": {},
   "source": [
    "## Which inputs strongly correlate with `total_cases`?\n",
    "\n",
    "Our next step in this process will be to select a subset of features to include in our regression. Our primary purpose here is to get a better understanding of the problem domain rather than eke out the last possible bit of predictive accuracy. The first thing we will do is to add the `total_cases` to our dataframe, and then look at the correlation of that variable with the climate variables."
   ]
  },
  {
   "cell_type": "code",
   "execution_count": 14,
   "metadata": {},
   "outputs": [],
   "source": [
    "num_val['total_cases'] = train_labels.total_cases\n"
   ]
  },
  {
   "cell_type": "markdown",
   "metadata": {},
   "source": [
    "Compute the data correlation matrix."
   ]
  },
  {
   "cell_type": "code",
   "execution_count": 15,
   "metadata": {},
   "outputs": [
    {
     "data": {
      "text/plain": [
       "1456"
      ]
     },
     "execution_count": 15,
     "metadata": {},
     "output_type": "execute_result"
    }
   ],
   "source": [
    "len(train_labels.total_cases)\n"
   ]
  },
  {
   "cell_type": "code",
   "execution_count": 16,
   "metadata": {},
   "outputs": [],
   "source": [
    "# compute the correlations\n",
    "correlations = num_val.corr()\n"
   ]
  },
  {
   "cell_type": "code",
   "execution_count": 17,
   "metadata": {
    "scrolled": false
   },
   "outputs": [
    {
     "data": {
      "text/plain": [
       "Text(0.5, 1.0, 'Variable Correlations')"
      ]
     },
     "execution_count": 17,
     "metadata": {},
     "output_type": "execute_result"
    },
    {
     "data": {
      "image/png": "[encoded data removed]",
      "text/plain": [
       "<Figure size 432x288 with 2 Axes>"
      ]
     },
     "metadata": {
      "needs_background": "light"
     },
     "output_type": "display_data"
    }
   ],
   "source": [
    "# plot san juan\n",
    "corr_heat = sns.heatmap(correlations)\n",
    "plt.title('Variable Correlations')"
   ]
  },
  {
   "cell_type": "markdown",
   "metadata": {},
   "source": [
    "### Many of the temperature data are strongly correlated, which is expected. But the `total_cases` variable doesn't have many obvious strong correlations.\n",
    "\n",
    "Interestingly, `total_cases` seems to only have weak correlations with other variables. Many of the climate variables are much more strongly correlated. Interestingly, the vegetation index also only has weak correlation with other variables. These correlations may give us some hints as to how to improve our model that we'll talk about later in this post. For now, let's take a `sorted` look at `total_cases` correlations."
   ]
  },
  {
   "cell_type": "code",
   "execution_count": 18,
   "metadata": {},
   "outputs": [
    {
     "data": {
      "text/plain": [
       "<matplotlib.axes._subplots.AxesSubplot at 0x1c237fea58>"
      ]
     },
     "execution_count": 18,
     "metadata": {},
     "output_type": "execute_result"
    },
    {
     "data": {
      "image/png": "[encoded data removed]",
      "text/plain": [
       "<Figure size 432x288 with 1 Axes>"
      ]
     },
     "metadata": {
      "needs_background": "light"
     },
     "output_type": "display_data"
    }
   ],
   "source": [
    "# ALL\n",
    "(correlations\n",
    "     .total_cases\n",
    "     .drop('total_cases') # don't compare with myself\n",
    "     .sort_values(ascending=False)\n",
    "     .plot\n",
    "     .barh())"
   ]
  },
  {
   "cell_type": "code",
   "execution_count": 19,
   "metadata": {},
   "outputs": [],
   "source": [
    "num_val.drop('total_cases', axis=1, inplace=True)"
   ]
  },
  {
   "cell_type": "markdown",
   "metadata": {},
   "source": [
    "## A mosquito model\n",
    "\n",
    "Now that we've explored this data, it's time to start modeling. Our first step will be to build a function that does all of the preprocessing we've done above from start to finish. This will make our lives easier, since it needs to be applied to the test set and the traning set before we make our predictions."
   ]
  },
  {
   "cell_type": "markdown",
   "metadata": {},
   "source": [
    "Now we can take a look at the smaller dataset and see that it's ready to start modelling:"
   ]
  },
  {
   "cell_type": "code",
   "execution_count": 23,
   "metadata": {},
   "outputs": [
    {
     "data": {
      "text/html": [
       "<div>\n",
       "<style scoped>\n",
       "    .dataframe tbody tr th:only-of-type {\n",
       "        vertical-align: middle;\n",
       "    }\n",
       "\n",
       "    .dataframe tbody tr th {\n",
       "        vertical-align: top;\n",
       "    }\n",
       "\n",
       "    .dataframe thead th {\n",
       "        text-align: right;\n",
       "    }\n",
       "</style>\n",
       "<table border=\"1\" class=\"dataframe\">\n",
       "  <thead>\n",
       "    <tr style=\"text-align: right;\">\n",
       "      <th></th>\n",
       "      <th>year</th>\n",
       "      <th>weekofyear</th>\n",
       "      <th>ndvi_ne</th>\n",
       "      <th>ndvi_nw</th>\n",
       "      <th>ndvi_se</th>\n",
       "      <th>ndvi_sw</th>\n",
       "      <th>precipitation_amt_mm</th>\n",
       "      <th>reanalysis_air_temp_k</th>\n",
       "      <th>reanalysis_avg_temp_k</th>\n",
       "      <th>reanalysis_dew_point_temp_k</th>\n",
       "      <th>...</th>\n",
       "      <th>reanalysis_precip_amt_kg_per_m2</th>\n",
       "      <th>reanalysis_relative_humidity_percent</th>\n",
       "      <th>reanalysis_sat_precip_amt_mm</th>\n",
       "      <th>reanalysis_specific_humidity_g_per_kg</th>\n",
       "      <th>reanalysis_tdtr_k</th>\n",
       "      <th>station_avg_temp_c</th>\n",
       "      <th>station_diur_temp_rng_c</th>\n",
       "      <th>station_max_temp_c</th>\n",
       "      <th>station_min_temp_c</th>\n",
       "      <th>station_precip_mm</th>\n",
       "    </tr>\n",
       "  </thead>\n",
       "  <tbody>\n",
       "    <tr>\n",
       "      <th>count</th>\n",
       "      <td>1456.000000</td>\n",
       "      <td>1456.000000</td>\n",
       "      <td>1456.000000</td>\n",
       "      <td>1456.000000</td>\n",
       "      <td>1456.000000</td>\n",
       "      <td>1456.000000</td>\n",
       "      <td>1456.000000</td>\n",
       "      <td>1456.000000</td>\n",
       "      <td>1456.000000</td>\n",
       "      <td>1456.000000</td>\n",
       "      <td>...</td>\n",
       "      <td>1456.000000</td>\n",
       "      <td>1456.000000</td>\n",
       "      <td>1456.000000</td>\n",
       "      <td>1456.000000</td>\n",
       "      <td>1456.000000</td>\n",
       "      <td>1456.000000</td>\n",
       "      <td>1456.000000</td>\n",
       "      <td>1456.000000</td>\n",
       "      <td>1456.000000</td>\n",
       "      <td>1456.000000</td>\n",
       "    </tr>\n",
       "    <tr>\n",
       "      <th>mean</th>\n",
       "      <td>2001.031593</td>\n",
       "      <td>26.503434</td>\n",
       "      <td>0.131271</td>\n",
       "      <td>0.128068</td>\n",
       "      <td>0.202606</td>\n",
       "      <td>0.201987</td>\n",
       "      <td>45.686937</td>\n",
       "      <td>298.697965</td>\n",
       "      <td>299.221483</td>\n",
       "      <td>295.245445</td>\n",
       "      <td>...</td>\n",
       "      <td>40.111635</td>\n",
       "      <td>82.176203</td>\n",
       "      <td>45.686937</td>\n",
       "      <td>16.745565</td>\n",
       "      <td>4.898656</td>\n",
       "      <td>27.180313</td>\n",
       "      <td>8.085646</td>\n",
       "      <td>32.443338</td>\n",
       "      <td>22.099863</td>\n",
       "      <td>39.194162</td>\n",
       "    </tr>\n",
       "    <tr>\n",
       "      <th>std</th>\n",
       "      <td>5.408314</td>\n",
       "      <td>15.019437</td>\n",
       "      <td>0.138527</td>\n",
       "      <td>0.119561</td>\n",
       "      <td>0.074409</td>\n",
       "      <td>0.083592</td>\n",
       "      <td>43.779318</td>\n",
       "      <td>1.361950</td>\n",
       "      <td>1.262676</td>\n",
       "      <td>1.527527</td>\n",
       "      <td>...</td>\n",
       "      <td>43.329174</td>\n",
       "      <td>7.161016</td>\n",
       "      <td>43.779318</td>\n",
       "      <td>1.542276</td>\n",
       "      <td>3.542340</td>\n",
       "      <td>1.280861</td>\n",
       "      <td>2.122836</td>\n",
       "      <td>1.960769</td>\n",
       "      <td>1.569113</td>\n",
       "      <td>47.363305</td>\n",
       "    </tr>\n",
       "    <tr>\n",
       "      <th>min</th>\n",
       "      <td>1990.000000</td>\n",
       "      <td>1.000000</td>\n",
       "      <td>-0.406250</td>\n",
       "      <td>-0.456100</td>\n",
       "      <td>-0.015533</td>\n",
       "      <td>-0.063457</td>\n",
       "      <td>0.000000</td>\n",
       "      <td>294.635714</td>\n",
       "      <td>294.892857</td>\n",
       "      <td>289.642857</td>\n",
       "      <td>...</td>\n",
       "      <td>0.000000</td>\n",
       "      <td>57.787143</td>\n",
       "      <td>0.000000</td>\n",
       "      <td>11.715714</td>\n",
       "      <td>1.357143</td>\n",
       "      <td>21.400000</td>\n",
       "      <td>4.528571</td>\n",
       "      <td>26.700000</td>\n",
       "      <td>14.700000</td>\n",
       "      <td>0.000000</td>\n",
       "    </tr>\n",
       "    <tr>\n",
       "      <th>25%</th>\n",
       "      <td>1997.000000</td>\n",
       "      <td>13.750000</td>\n",
       "      <td>0.039100</td>\n",
       "      <td>0.048250</td>\n",
       "      <td>0.152795</td>\n",
       "      <td>0.144455</td>\n",
       "      <td>9.655000</td>\n",
       "      <td>297.654643</td>\n",
       "      <td>298.257143</td>\n",
       "      <td>294.119643</td>\n",
       "      <td>...</td>\n",
       "      <td>13.085000</td>\n",
       "      <td>77.185714</td>\n",
       "      <td>9.655000</td>\n",
       "      <td>15.560000</td>\n",
       "      <td>2.328571</td>\n",
       "      <td>26.300000</td>\n",
       "      <td>6.528571</td>\n",
       "      <td>31.100000</td>\n",
       "      <td>21.100000</td>\n",
       "      <td>8.700000</td>\n",
       "    </tr>\n",
       "    <tr>\n",
       "      <th>50%</th>\n",
       "      <td>2002.000000</td>\n",
       "      <td>26.500000</td>\n",
       "      <td>0.113900</td>\n",
       "      <td>0.115926</td>\n",
       "      <td>0.195664</td>\n",
       "      <td>0.190121</td>\n",
       "      <td>38.235000</td>\n",
       "      <td>298.646429</td>\n",
       "      <td>299.285714</td>\n",
       "      <td>295.639286</td>\n",
       "      <td>...</td>\n",
       "      <td>27.245000</td>\n",
       "      <td>80.301429</td>\n",
       "      <td>38.235000</td>\n",
       "      <td>17.087143</td>\n",
       "      <td>2.857143</td>\n",
       "      <td>27.400000</td>\n",
       "      <td>7.364286</td>\n",
       "      <td>32.800000</td>\n",
       "      <td>22.200000</td>\n",
       "      <td>23.800000</td>\n",
       "    </tr>\n",
       "    <tr>\n",
       "      <th>75%</th>\n",
       "      <td>2005.000000</td>\n",
       "      <td>39.250000</td>\n",
       "      <td>0.232018</td>\n",
       "      <td>0.213429</td>\n",
       "      <td>0.247461</td>\n",
       "      <td>0.246775</td>\n",
       "      <td>70.227500</td>\n",
       "      <td>299.827500</td>\n",
       "      <td>300.207143</td>\n",
       "      <td>296.460000</td>\n",
       "      <td>...</td>\n",
       "      <td>52.200000</td>\n",
       "      <td>86.406429</td>\n",
       "      <td>70.227500</td>\n",
       "      <td>17.977500</td>\n",
       "      <td>7.617857</td>\n",
       "      <td>28.132143</td>\n",
       "      <td>9.600000</td>\n",
       "      <td>33.900000</td>\n",
       "      <td>23.300000</td>\n",
       "      <td>53.675000</td>\n",
       "    </tr>\n",
       "    <tr>\n",
       "      <th>max</th>\n",
       "      <td>2010.000000</td>\n",
       "      <td>53.000000</td>\n",
       "      <td>0.508357</td>\n",
       "      <td>0.454429</td>\n",
       "      <td>0.538314</td>\n",
       "      <td>0.546017</td>\n",
       "      <td>390.600000</td>\n",
       "      <td>302.200000</td>\n",
       "      <td>302.928571</td>\n",
       "      <td>298.450000</td>\n",
       "      <td>...</td>\n",
       "      <td>570.500000</td>\n",
       "      <td>98.610000</td>\n",
       "      <td>390.600000</td>\n",
       "      <td>20.461429</td>\n",
       "      <td>16.028571</td>\n",
       "      <td>30.800000</td>\n",
       "      <td>15.800000</td>\n",
       "      <td>42.200000</td>\n",
       "      <td>25.600000</td>\n",
       "      <td>543.300000</td>\n",
       "    </tr>\n",
       "  </tbody>\n",
       "</table>\n",
       "<p>8 rows × 22 columns</p>\n",
       "</div>"
      ],
      "text/plain": [
       "              year   weekofyear      ndvi_ne      ndvi_nw      ndvi_se  \\\n",
       "count  1456.000000  1456.000000  1456.000000  1456.000000  1456.000000   \n",
       "mean   2001.031593    26.503434     0.131271     0.128068     0.202606   \n",
       "std       5.408314    15.019437     0.138527     0.119561     0.074409   \n",
       "min    1990.000000     1.000000    -0.406250    -0.456100    -0.015533   \n",
       "25%    1997.000000    13.750000     0.039100     0.048250     0.152795   \n",
       "50%    2002.000000    26.500000     0.113900     0.115926     0.195664   \n",
       "75%    2005.000000    39.250000     0.232018     0.213429     0.247461   \n",
       "max    2010.000000    53.000000     0.508357     0.454429     0.538314   \n",
       "\n",
       "           ndvi_sw  precipitation_amt_mm  reanalysis_air_temp_k  \\\n",
       "count  1456.000000           1456.000000            1456.000000   \n",
       "mean      0.201987             45.686937             298.697965   \n",
       "std       0.083592             43.779318               1.361950   \n",
       "min      -0.063457              0.000000             294.635714   \n",
       "25%       0.144455              9.655000             297.654643   \n",
       "50%       0.190121             38.235000             298.646429   \n",
       "75%       0.246775             70.227500             299.827500   \n",
       "max       0.546017            390.600000             302.200000   \n",
       "\n",
       "       reanalysis_avg_temp_k  reanalysis_dew_point_temp_k        ...          \\\n",
       "count            1456.000000                  1456.000000        ...           \n",
       "mean              299.221483                   295.245445        ...           \n",
       "std                 1.262676                     1.527527        ...           \n",
       "min               294.892857                   289.642857        ...           \n",
       "25%               298.257143                   294.119643        ...           \n",
       "50%               299.285714                   295.639286        ...           \n",
       "75%               300.207143                   296.460000        ...           \n",
       "max               302.928571                   298.450000        ...           \n",
       "\n",
       "       reanalysis_precip_amt_kg_per_m2  reanalysis_relative_humidity_percent  \\\n",
       "count                      1456.000000                           1456.000000   \n",
       "mean                         40.111635                             82.176203   \n",
       "std                          43.329174                              7.161016   \n",
       "min                           0.000000                             57.787143   \n",
       "25%                          13.085000                             77.185714   \n",
       "50%                          27.245000                             80.301429   \n",
       "75%                          52.200000                             86.406429   \n",
       "max                         570.500000                             98.610000   \n",
       "\n",
       "       reanalysis_sat_precip_amt_mm  reanalysis_specific_humidity_g_per_kg  \\\n",
       "count                   1456.000000                            1456.000000   \n",
       "mean                      45.686937                              16.745565   \n",
       "std                       43.779318                               1.542276   \n",
       "min                        0.000000                              11.715714   \n",
       "25%                        9.655000                              15.560000   \n",
       "50%                       38.235000                              17.087143   \n",
       "75%                       70.227500                              17.977500   \n",
       "max                      390.600000                              20.461429   \n",
       "\n",
       "       reanalysis_tdtr_k  station_avg_temp_c  station_diur_temp_rng_c  \\\n",
       "count        1456.000000         1456.000000              1456.000000   \n",
       "mean            4.898656           27.180313                 8.085646   \n",
       "std             3.542340            1.280861                 2.122836   \n",
       "min             1.357143           21.400000                 4.528571   \n",
       "25%             2.328571           26.300000                 6.528571   \n",
       "50%             2.857143           27.400000                 7.364286   \n",
       "75%             7.617857           28.132143                 9.600000   \n",
       "max            16.028571           30.800000                15.800000   \n",
       "\n",
       "       station_max_temp_c  station_min_temp_c  station_precip_mm  \n",
       "count         1456.000000         1456.000000        1456.000000  \n",
       "mean            32.443338           22.099863          39.194162  \n",
       "std              1.960769            1.569113          47.363305  \n",
       "min             26.700000           14.700000           0.000000  \n",
       "25%             31.100000           21.100000           8.700000  \n",
       "50%             32.800000           22.200000          23.800000  \n",
       "75%             33.900000           23.300000          53.675000  \n",
       "max             42.200000           25.600000         543.300000  \n",
       "\n",
       "[8 rows x 22 columns]"
      ]
     },
     "execution_count": 23,
     "metadata": {},
     "output_type": "execute_result"
    }
   ],
   "source": [
    "num_val.describe()\n"
   ]
  },
  {
   "cell_type": "markdown",
   "metadata": {},
   "source": [
    "# Here we select the relavent variables to be used to make the model\n",
    "\n"
   ]
  },
  {
   "cell_type": "code",
   "execution_count": 24,
   "metadata": {},
   "outputs": [],
   "source": [
    "#attributes = [\"ndvi_se\",\"year\",\"weekofyear\",\"station_min_temp_c\",\"reanalysis_dew_point_temp_k\",\"reanalysis_specific_humidity_g_per_kg\",\"station_avg_temp_c\"]\n",
    "attributes = [\"weekofyear\",\"ndvi_se\",\"station_min_temp_c\",\"reanalysis_dew_point_temp_k\",\"reanalysis_specific_humidity_g_per_kg\",\"station_avg_temp_c\"]\n",
    "\n",
    "\n",
    "\n",
    "\n"
   ]
  },
  {
   "cell_type": "code",
   "execution_count": 25,
   "metadata": {},
   "outputs": [],
   "source": [
    "num_attribs= list(num_val[attributes])\n",
    "cat_attribs=list(cat_val)\n",
    "#print(num_attribs)"
   ]
  },
  {
   "cell_type": "code",
   "execution_count": 26,
   "metadata": {},
   "outputs": [],
   "source": [
    "from sklearn.pipeline import Pipeline\n",
    "from sklearn.preprocessing import StandardScaler\n",
    "#from sklearn.preprocessing import labelBinarizer\n",
    "from sklearn.preprocessing import OneHotEncoder\n",
    "from sklearn.pipeline import FeatureUnion\n",
    "from sklearn.base import BaseEstimator,TransformerMixin\n",
    "class DataFrameSelector(BaseEstimator, TransformerMixin):\n",
    "    def __init__(self, attribute_names):\n",
    "        self.attribute_names=attribute_names\n",
    "    def fit(self, X, y=None):\n",
    "        return self\n",
    "    def transform(self, X):\n",
    "        return X[self.attribute_names].values\n"
   ]
  },
  {
   "cell_type": "code",
   "execution_count": 27,
   "metadata": {},
   "outputs": [],
   "source": [
    "num_pipeline = Pipeline([\n",
    "                         ('selector', DataFrameSelector(num_attribs)),\n",
    "                         ('std_scaler', StandardScaler()),\n",
    "                        ])\n",
    "\n",
    "cat_pipeline = Pipeline([('selector', DataFrameSelector(cat_attribs)), \n",
    "                         ('cat_encoder', OneHotEncoder()),\n",
    "                        ])\n"
   ]
  },
  {
   "cell_type": "markdown",
   "metadata": {},
   "source": [
    "# encode categorical data"
   ]
  },
  {
   "cell_type": "code",
   "execution_count": 28,
   "metadata": {},
   "outputs": [],
   "source": [
    "from sklearn import preprocessing\n",
    "enc = preprocessing.LabelEncoder()\n",
    "enc.fit(cat_val)\n",
    "new_cat_val = enc.transform(cat_val)\n",
    "new_cat_val=new_cat_val.reshape(-1, 1)\n",
    "ohe = preprocessing.OneHotEncoder(sparse=False)\n",
    "cat_val1= ohe.fit_transform(new_cat_val)\n",
    "\n",
    "num_values=(num_val[attributes])\n",
    "\n"
   ]
  },
  {
   "cell_type": "markdown",
   "metadata": {},
   "source": [
    "# standardize the numerical values"
   ]
  },
  {
   "cell_type": "code",
   "execution_count": 29,
   "metadata": {},
   "outputs": [
    {
     "data": {
      "text/plain": [
       "1456"
      ]
     },
     "execution_count": 29,
     "metadata": {},
     "output_type": "execute_result"
    }
   ],
   "source": [
    "#qq=StandardScaler(num_values)\n",
    "num_values1=StandardScaler().fit_transform(num_values)\n",
    "len(num_values1)"
   ]
  },
  {
   "cell_type": "code",
   "execution_count": 31,
   "metadata": {},
   "outputs": [
    {
     "data": {
      "text/html": [
       "<div>\n",
       "<style scoped>\n",
       "    .dataframe tbody tr th:only-of-type {\n",
       "        vertical-align: middle;\n",
       "    }\n",
       "\n",
       "    .dataframe tbody tr th {\n",
       "        vertical-align: top;\n",
       "    }\n",
       "\n",
       "    .dataframe thead th {\n",
       "        text-align: right;\n",
       "    }\n",
       "</style>\n",
       "<table border=\"1\" class=\"dataframe\">\n",
       "  <thead>\n",
       "    <tr style=\"text-align: right;\">\n",
       "      <th></th>\n",
       "      <th>0</th>\n",
       "      <th>1</th>\n",
       "      <th>2</th>\n",
       "      <th>3</th>\n",
       "      <th>4</th>\n",
       "      <th>5</th>\n",
       "      <th>0</th>\n",
       "      <th>1</th>\n",
       "    </tr>\n",
       "  </thead>\n",
       "  <tbody>\n",
       "    <tr>\n",
       "      <th>1451</th>\n",
       "      <td>-0.366547</td>\n",
       "      <td>0.722427</td>\n",
       "      <td>0.191344</td>\n",
       "      <td>1.034883</td>\n",
       "      <td>1.128687</td>\n",
       "      <td>1.134800</td>\n",
       "      <td>1.0</td>\n",
       "      <td>0.0</td>\n",
       "    </tr>\n",
       "    <tr>\n",
       "      <th>1452</th>\n",
       "      <td>-0.299943</td>\n",
       "      <td>-0.894858</td>\n",
       "      <td>-0.254921</td>\n",
       "      <td>0.790707</td>\n",
       "      <td>0.859048</td>\n",
       "      <td>0.197608</td>\n",
       "      <td>1.0</td>\n",
       "      <td>0.0</td>\n",
       "    </tr>\n",
       "    <tr>\n",
       "      <th>1453</th>\n",
       "      <td>-0.233340</td>\n",
       "      <td>0.641955</td>\n",
       "      <td>-1.848725</td>\n",
       "      <td>0.167638</td>\n",
       "      <td>0.170590</td>\n",
       "      <td>-2.171406</td>\n",
       "      <td>1.0</td>\n",
       "      <td>0.0</td>\n",
       "    </tr>\n",
       "    <tr>\n",
       "      <th>1454</th>\n",
       "      <td>-0.166737</td>\n",
       "      <td>1.025487</td>\n",
       "      <td>-0.701186</td>\n",
       "      <td>0.051631</td>\n",
       "      <td>0.045500</td>\n",
       "      <td>-1.364379</td>\n",
       "      <td>1.0</td>\n",
       "      <td>0.0</td>\n",
       "    </tr>\n",
       "    <tr>\n",
       "      <th>1455</th>\n",
       "      <td>-0.100134</td>\n",
       "      <td>0.962686</td>\n",
       "      <td>0.063840</td>\n",
       "      <td>0.367843</td>\n",
       "      <td>0.395752</td>\n",
       "      <td>0.230149</td>\n",
       "      <td>1.0</td>\n",
       "      <td>0.0</td>\n",
       "    </tr>\n",
       "  </tbody>\n",
       "</table>\n",
       "</div>"
      ],
      "text/plain": [
       "             0         1         2         3         4         5    0    1\n",
       "1451 -0.366547  0.722427  0.191344  1.034883  1.128687  1.134800  1.0  0.0\n",
       "1452 -0.299943 -0.894858 -0.254921  0.790707  0.859048  0.197608  1.0  0.0\n",
       "1453 -0.233340  0.641955 -1.848725  0.167638  0.170590 -2.171406  1.0  0.0\n",
       "1454 -0.166737  1.025487 -0.701186  0.051631  0.045500 -1.364379  1.0  0.0\n",
       "1455 -0.100134  0.962686  0.063840  0.367843  0.395752  0.230149  1.0  0.0"
      ]
     },
     "execution_count": 31,
     "metadata": {},
     "output_type": "execute_result"
    }
   ],
   "source": [
    "#full_dataset = pd.concat((num_values, onehotlabels), axis=1)\n",
    "\n",
    "full_dataset = pd.concat([pd.DataFrame(num_values1), pd.DataFrame(cat_val1)], axis=1)\n",
    "full_dataset.tail()"
   ]
  },
  {
   "cell_type": "markdown",
   "metadata": {},
   "source": [
    "## Split it up!"
   ]
  },
  {
   "cell_type": "markdown",
   "metadata": {},
   "source": [
    "Since this is a timeseries model, we'll use a strict-future holdout set when we are splitting our train set and our test set. We'll keep around three quarters of the original data for training and use the rest to test. We'll do this separately for our San Juan model and for our Iquitos model."
   ]
  },
  {
   "cell_type": "code",
   "execution_count": 32,
   "metadata": {},
   "outputs": [],
   "source": [
    "X_train, X_test, y_train, y_test = train_test_split(full_dataset,train_labels.total_cases, test_size=0.2)\n",
    "#len(train_labels.total_cases)"
   ]
  },
  {
   "cell_type": "code",
   "execution_count": 33,
   "metadata": {},
   "outputs": [
    {
     "data": {
      "text/html": [
       "<div>\n",
       "<style scoped>\n",
       "    .dataframe tbody tr th:only-of-type {\n",
       "        vertical-align: middle;\n",
       "    }\n",
       "\n",
       "    .dataframe tbody tr th {\n",
       "        vertical-align: top;\n",
       "    }\n",
       "\n",
       "    .dataframe thead th {\n",
       "        text-align: right;\n",
       "    }\n",
       "</style>\n",
       "<table border=\"1\" class=\"dataframe\">\n",
       "  <thead>\n",
       "    <tr style=\"text-align: right;\">\n",
       "      <th></th>\n",
       "      <th>0</th>\n",
       "      <th>1</th>\n",
       "      <th>2</th>\n",
       "      <th>3</th>\n",
       "      <th>4</th>\n",
       "      <th>5</th>\n",
       "      <th>0</th>\n",
       "      <th>1</th>\n",
       "    </tr>\n",
       "  </thead>\n",
       "  <tbody>\n",
       "    <tr>\n",
       "      <th>503</th>\n",
       "      <td>1.698155</td>\n",
       "      <td>-0.462546</td>\n",
       "      <td>-0.637434</td>\n",
       "      <td>-0.889522</td>\n",
       "      <td>-0.965413</td>\n",
       "      <td>-1.334627</td>\n",
       "      <td>0.0</td>\n",
       "      <td>1.0</td>\n",
       "    </tr>\n",
       "    <tr>\n",
       "      <th>132</th>\n",
       "      <td>1.298535</td>\n",
       "      <td>-1.521242</td>\n",
       "      <td>0.446353</td>\n",
       "      <td>-0.112089</td>\n",
       "      <td>-0.171323</td>\n",
       "      <td>0.283145</td>\n",
       "      <td>0.0</td>\n",
       "      <td>1.0</td>\n",
       "    </tr>\n",
       "    <tr>\n",
       "      <th>642</th>\n",
       "      <td>0.632502</td>\n",
       "      <td>-0.508702</td>\n",
       "      <td>0.446353</td>\n",
       "      <td>0.889874</td>\n",
       "      <td>0.877580</td>\n",
       "      <td>0.249674</td>\n",
       "      <td>0.0</td>\n",
       "      <td>1.0</td>\n",
       "    </tr>\n",
       "    <tr>\n",
       "      <th>526</th>\n",
       "      <td>-0.233340</td>\n",
       "      <td>-0.455439</td>\n",
       "      <td>0.765113</td>\n",
       "      <td>0.276160</td>\n",
       "      <td>0.187268</td>\n",
       "      <td>0.528600</td>\n",
       "      <td>0.0</td>\n",
       "      <td>1.0</td>\n",
       "    </tr>\n",
       "    <tr>\n",
       "      <th>66</th>\n",
       "      <td>0.366089</td>\n",
       "      <td>-0.134710</td>\n",
       "      <td>1.466387</td>\n",
       "      <td>0.800998</td>\n",
       "      <td>0.746004</td>\n",
       "      <td>1.030667</td>\n",
       "      <td>0.0</td>\n",
       "      <td>1.0</td>\n",
       "    </tr>\n",
       "  </tbody>\n",
       "</table>\n",
       "</div>"
      ],
      "text/plain": [
       "            0         1         2         3         4         5    0    1\n",
       "503  1.698155 -0.462546 -0.637434 -0.889522 -0.965413 -1.334627  0.0  1.0\n",
       "132  1.298535 -1.521242  0.446353 -0.112089 -0.171323  0.283145  0.0  1.0\n",
       "642  0.632502 -0.508702  0.446353  0.889874  0.877580  0.249674  0.0  1.0\n",
       "526 -0.233340 -0.455439  0.765113  0.276160  0.187268  0.528600  0.0  1.0\n",
       "66   0.366089 -0.134710  1.466387  0.800998  0.746004  1.030667  0.0  1.0"
      ]
     },
     "execution_count": 33,
     "metadata": {},
     "output_type": "execute_result"
    }
   ],
   "source": [
    "X_train.head()\n"
   ]
  },
  {
   "cell_type": "markdown",
   "metadata": {},
   "source": [
    "## Training time\n",
    "\n",
    "This is where we start getting down to business. "
   ]
  },
  {
   "cell_type": "code",
   "execution_count": 34,
   "metadata": {},
   "outputs": [
    {
     "name": "stdout",
     "output_type": "stream",
     "text": [
      "-1145.266777 (842.413082) with: {'n_estimators': 10}\n",
      "-799.668980 (448.993929) with: {'n_estimators': 50}\n",
      "-836.069059 (403.278767) with: {'n_estimators': 200}\n",
      "-842.603689 (401.201042) with: {'n_estimators': 250}\n",
      "-888.376038 (401.723033) with: {'n_estimators': 500}\n",
      "Best: -799.668980 using {'n_estimators': 50}\n"
     ]
    }
   ],
   "source": [
    "from sklearn.model_selection import GridSearchCV\n",
    "\n",
    "scaler = StandardScaler().fit(X_train)\n",
    "rescaledX = scaler.transform(X_train)\n",
    "param_grid = dict(n_estimators=np.array([10,50,200,250,500]))\n",
    "model = GradientBoostingRegressor(random_state=21)\n",
    "kfold = KFold(n_splits=10, random_state=21)\n",
    "grid = GridSearchCV(estimator=model, param_grid=param_grid, scoring='neg_mean_squared_error',cv=kfold )\n",
    "grid_result = grid.fit(rescaledX, y_train)\n",
    "\n",
    "\n",
    "means = grid_result.cv_results_['mean_test_score']\n",
    "stds = grid_result.cv_results_['std_test_score']\n",
    "params = grid_result.cv_results_['params']\n",
    "for mean, stdev, param in zip(means, stds, params):\n",
    "    print(\"%f (%f) with: %r\" % (mean, stdev, param))\n",
    "\n",
    "print(\"Best: %f using %s\" % (grid_result.best_score_, grid_result.best_params_))"
   ]
  },
  {
   "cell_type": "code",
   "execution_count": 35,
   "metadata": {},
   "outputs": [
    {
     "name": "stdout",
     "output_type": "stream",
     "text": [
      "15.267123287671232\n"
     ]
    }
   ],
   "source": [
    "from sklearn.metrics import mean_absolute_error \n",
    "model1= GradientBoostingRegressor(n_estimators=50, random_state=21)\n",
    "m= model1.fit(rescaledX, y_train)\n",
    "rescaledXt = scaler.transform(X_test)\n",
    "predicted=m.predict(rescaledXt).astype(int)\n",
    "\n",
    "mae=mean_absolute_error(y_test,predicted)\n",
    "print(mae)"
   ]
  },
  {
   "cell_type": "code",
   "execution_count": 37,
   "metadata": {},
   "outputs": [],
   "source": [
    "X_all=pd.concat([X_train, X_test])\n",
    "rescaledXall = scaler.transform(X_all)\n",
    "predictedall=m.predict(rescaledXall).astype(int)\n",
    "#len(rescaledXall)\n",
    "#print(predictedall)\n",
    "#len(predictedall)\n",
    "#len(train_labels.total_cases)"
   ]
  },
  {
   "cell_type": "markdown",
   "metadata": {},
   "source": [
    "## Reflecting on our performance\n",
    "\n",
    "These graphs can actually tell us a lot about where our model is going wrong and give us some good hints about where investments will improve the model performance. For example, we see that our model in blue does track the seasonality of Dengue cases. However, the timing of the seasonality of our predictions has a mismatch with the actual results. One potential reason for this is that our features don't look far enough into the past--that is to say, we are asking to predict cases at the same time as we are measuring percipitation. Because dengue is misquito born, and the misquito lifecycle depends on water, we need to take both the life of a misquito and the time between infection and symptoms into account when modeling dengue. This is a critical avenue to explore when improving this model.\n",
    "\n",
    "The other important error is that our predictions are relatively consistent--we miss the spikes that are large outbreaks. One reason is that we don't take into account the contagiousness of dengue. A possible way to account for this is to build a model that progressively predicts a new value while taking into account the previous prediction. By training on the dengue outbreaks and then using the predicted number of patients in the week before, we can start to model this time dependence that the current model misses.\n",
    "\n",
    "So, we know we're not going to win this thing, but let's submit the model anyway!"
   ]
  },
  {
   "cell_type": "code",
   "execution_count": 124,
   "metadata": {},
   "outputs": [],
   "source": [
    "#sj_predictions = forest_reg.predict(sj_test).astype(int)"
   ]
  },
  {
   "cell_type": "code",
   "execution_count": 40,
   "metadata": {},
   "outputs": [],
   "source": [
    "test_features = pd.read_csv('/Users/eroolpal/Downloads/dengue_features_test.csv')\n",
    "cat_val = test_features.select_dtypes(include=['object']).copy()\n",
    "cat_val.drop('week_start_date', axis=1, inplace=True)\n",
    "num_val = test_features.drop(cat_val,axis=1)\n",
    "num_val.fillna(method='ffill', inplace=True)\n",
    "from sklearn import preprocessing\n",
    "enc = preprocessing.LabelEncoder()\n",
    "enc.fit(cat_val)\n",
    "new_cat_val = enc.transform(cat_val)\n",
    "new_cat_val=new_cat_val.reshape(-1, 1)\n",
    "ohe = preprocessing.OneHotEncoder(sparse=False)\n",
    "cat_val1= ohe.fit_transform(new_cat_val)\n",
    "num_values=(num_val[attributes])\n",
    "num_values1=StandardScaler().fit_transform(num_values)\n",
    "X_t = pd.concat([pd.DataFrame(num_values1), pd.DataFrame(cat_val1)], axis=1)\n",
    "\n",
    "rescaledXt = scaler.transform(X_t)\n",
    "#len(cat_val)\n",
    "predictions=m.predict(rescaledXt).astype(int)\n",
    "\n",
    "\n",
    "\n",
    "\n",
    "submission = pd.read_csv(\"/Users/eroolpal/Downloads/submission_format.csv\")\n",
    "\n",
    "submission.total_cases = predictions\n",
    "submission.to_csv(\"/Users/eroolpal/Downloads/benchmark_3.csv\",index=False)\n"
   ]
  },
  {
   "cell_type": "markdown",
   "metadata": {},
   "source": [
    "![](https://community.drivendata.org/uploads/default/original/1X/7af03e4997e8487057a77f9022691b9e9cb525f7.png)\n",
    "\n",
    "Alright, it's a start! To build your own model you can grab this notebook [from our benchmarks repo](https://github.com/drivendata/benchmarks).\n",
    "\n",
    "Good luck, and enjoy!"
   ]
  }
 ],
 "metadata": {
  "anaconda-cloud": {},
  "kernelspec": {
   "display_name": "Python 3",
   "language": "python",
   "name": "python3"
  },
  "language_info": {
   "codemirror_mode": {
    "name": "ipython",
    "version": 3
   },
   "file_extension": ".py",
   "mimetype": "text/x-python",
   "name": "python",
   "nbconvert_exporter": "python",
   "pygments_lexer": "ipython3",
   "version": "3.7.1"
  }
 },
 "nbformat": 4,
 "nbformat_minor": 1
}
